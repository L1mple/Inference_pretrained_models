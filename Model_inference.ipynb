{
 "cells": [
  {
   "cell_type": "markdown",
   "metadata": {
    "pycharm": {
     "name": "#%% md\n"
    }
   },
   "source": [
    "# **Inference models for FaceRecognition task**\n",
    "\n",
    "## *Models are taken from github*:\n",
    "## https://github.com/cunjian/pytorch_face_landmark\n",
    "\n",
    "## *Dataset used*:\n",
    "## https://github.com/yinguobing/facial-landmark-dataset (HELEN)"
   ]
  },
  {
   "cell_type": "markdown",
   "metadata": {},
   "source": [
    "## **Workflow**:\n",
    "\n",
    "### Firstly, we tested models with different backbones:\n",
    "* MobileNet (Average time for 1 sample: 0.03s)\n",
    "\n",
    "* MobileFaceNet (Average time for 1 sample: 0.015s)\n",
    "\n",
    "* PFLD (Average time for 1 sample: 0.010s)\n",
    "\n",
    "\n",
    "\n",
    "\n",
    "### Secondly, we used different face detectors:"
   ]
  },
  {
   "cell_type": "markdown",
   "source": [
    "* MTCNN\n",
    "\n",
    "<img alt=\"MTCNN_1\" height=\"300\" src=\"results/MTCNN/2973812613_1.jpg\" width=\"300\" />\n",
    "\n",
    "<img alt=\"MTCNN_2\" height=\"300\" src=\"results/MTCNN/296961468_1.jpg\" width=\"300\" />"
   ],
   "metadata": {
    "collapsed": false
   }
  },
  {
   "cell_type": "markdown",
   "source": [
    "* FaceBoxes\n",
    "\n",
    "<img alt=\"FaceBoxes_1\" height=\"300\" src=\"results/FaceBoxes/2973812613_1.jpg\" width=\"300\" />\n",
    "\n",
    "<img alt=\"FaceBoxes_2\" height=\"300\" src=\"results/FaceBoxes/296961468_1.jpg\" width=\"300\" />"
   ],
   "metadata": {
    "collapsed": false
   }
  },
  {
   "cell_type": "markdown",
   "source": [
    "* RetinaFace\n",
    "\n",
    "<img alt=\"Retinaface_1\" height=\"300\" src=\"results/RetinaFace/2973812613_1.jpg\" width=\"300\" />\n",
    "\n",
    "<img alt=\"Retinaface_2\" height=\"500\" src=\"results/RetinaFace/296961468_1.jpg\" width=\"300\"/>\n"
   ],
   "metadata": {
    "collapsed": false,
    "pycharm": {
     "name": "#%% md\n"
    }
   }
  },
  {
   "cell_type": "markdown",
   "source": [
    "# As we can see the most successful detector is FaceBoxes and the fastest backbone is PFLD\n"
   ],
   "metadata": {
    "collapsed": false
   }
  }
 ],
 "metadata": {
  "kernelspec": {
   "display_name": "Python 3 (ipykernel)",
   "language": "python",
   "name": "python3"
  },
  "language_info": {
   "codemirror_mode": {
    "name": "ipython",
    "version": 3
   },
   "file_extension": ".py",
   "mimetype": "text/x-python",
   "name": "python",
   "nbconvert_exporter": "python",
   "pygments_lexer": "ipython3",
   "version": "3.10.2"
  }
 },
 "nbformat": 4,
 "nbformat_minor": 1
}